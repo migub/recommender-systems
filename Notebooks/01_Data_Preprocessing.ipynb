{
  "nbformat": 4,
  "nbformat_minor": 0,
  "metadata": {
    "colab": {
      "provenance": [],
      "toc_visible": true,
      "authorship_tag": "ABX9TyP+A/aZ8mqoIbZ2P323JGTE",
      "include_colab_link": true
    },
    "kernelspec": {
      "name": "python3",
      "display_name": "Python 3"
    },
    "language_info": {
      "name": "python"
    }
  },
  "cells": [
    {
      "cell_type": "markdown",
      "metadata": {
        "id": "view-in-github",
        "colab_type": "text"
      },
      "source": [
        "<a href=\"https://colab.research.google.com/github/migub/recommender-systems/blob/main/Notebooks/01_Data_Preprocessing.ipynb\" target=\"_parent\"><img src=\"https://colab.research.google.com/assets/colab-badge.svg\" alt=\"Open In Colab\"/></a>"
      ]
    },
    {
      "cell_type": "code",
      "execution_count": null,
      "metadata": {
        "id": "zw_jLhGQBRsO"
      },
      "outputs": [],
      "source": [
        "# Data Preparation\n"
      ]
    },
    {
      "cell_type": "code",
      "source": [
        "## 1. Setup\n",
        "import pandas as pd\n",
        "import numpy as np\n",
        "import matplotlib.pyplot as plt\n",
        "import seaborn as sns\n",
        "from google.colab import drive\n",
        "drive.mount('/content/drive')"
      ],
      "metadata": {
        "id": "rJDKzDf_nzI6"
      },
      "execution_count": null,
      "outputs": []
    },
    {
      "cell_type": "code",
      "source": [
        "## 2. Data Loading\n",
        "data = pd.read_csv(\"/content/drive/MyDrive/Recommender_Systems/train.csv\")\n",
        "\n",
        "# Display basic info\n",
        "data.info()\n",
        "display(data.head())"
      ],
      "metadata": {
        "id": "5FK5x5nbn9-f"
      },
      "execution_count": null,
      "outputs": []
    },
    {
      "cell_type": "code",
      "source": [
        "## 3. Handling Missing Values\n",
        "# Check for missing values\n",
        "missing_values = data.isnull().sum()\n",
        "print(\"Missing values per column:\\n\", missing_values)\n",
        "\n",
        "# Drop rows or columns with too many missing values if needed\n",
        "data.dropna(inplace=True)"
      ],
      "metadata": {
        "id": "MF_dpOtjqHKL"
      },
      "execution_count": null,
      "outputs": []
    },
    {
      "cell_type": "code",
      "source": [
        "## 4. Convert Data Types\n",
        "# Convert timestamps to datetime format\n",
        "data['ts_listen'] = pd.to_datetime(data['ts_listen'], unit='s')\n",
        "data['release_date'] = pd.to_datetime(data['release_date'], format='%Y%m%d', errors='coerce')\n",
        "\n",
        "# Ensure categorical columns are treated as categorical\n",
        "data['platform_name'] = data['platform_name'].astype('category')\n",
        "data['platform_family'] = data['platform_family'].astype('category')\n",
        "data['listen_type'] = data['listen_type'].astype('category')\n",
        "data['user_gender'] = data['user_gender'].astype('category')\n",
        "data['context_type'] = data['context_type'].astype('category')\n",
        "\n",
        "data['is_listened'] = data['is_listened'].astype(bool)\n",
        "\n",
        "display(data.dtypes)"
      ],
      "metadata": {
        "id": "FoW4MCEVqQV2"
      },
      "execution_count": null,
      "outputs": []
    },
    {
      "cell_type": "code",
      "source": [
        "## 5. Feature Engineering\n",
        "# Extract time-based features from the timestamp\n",
        "data['listen_hour'] = data['ts_listen'].dt.hour\n",
        "data['listen_dayofweek'] = data['ts_listen'].dt.dayofweek\n",
        "\n",
        "display(data[['ts_listen', 'listen_hour', 'listen_dayofweek']].head())"
      ],
      "metadata": {
        "id": "ORhxQepTqe10"
      },
      "execution_count": null,
      "outputs": []
    },
    {
      "cell_type": "code",
      "source": [
        "## 6. Data Visualization\n",
        "# Distribution of target variable\n",
        "sns.countplot(x='is_listened', data=data)\n",
        "plt.title('Distribution of is_listened')\n",
        "plt.show()\n",
        "\n",
        "# User age distribution\n",
        "sns.histplot(data['user_age'], bins=30)\n",
        "plt.title('User Age Distribution')\n",
        "plt.show()\n",
        "\n",
        "# Most common genres\n",
        "top_genres = data['genre_id'].value_counts().head(10)\n",
        "top_genres.plot(kind='bar', title='Top 10 Genres')\n",
        "plt.show()\n",
        "\n",
        "# Save cleaned data for further processing\n",
        "data.to_csv('/content/drive/MyDrive/Recommender_Systems/cleaned_data.csv', index=False)\n",
        "\n",
        "print(\"Data preparation complete. Cleaned dataset saved.\")"
      ],
      "metadata": {
        "id": "swvNOlC4qioq"
      },
      "execution_count": null,
      "outputs": []
    }
  ]
}