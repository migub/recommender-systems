{
  "cells": [
    {
      "cell_type": "markdown",
      "metadata": {
        "id": "view-in-github",
        "colab_type": "text"
      },
      "source": [
        "<a href=\"https://colab.research.google.com/github/migub/recommender-systems/blob/main/Notebooks/04_Logistic_Regression.ipynb\" target=\"_parent\"><img src=\"https://colab.research.google.com/assets/colab-badge.svg\" alt=\"Open In Colab\"/></a>"
      ]
    },
    {
      "cell_type": "code",
      "execution_count": null,
      "metadata": {
        "id": "zw_jLhGQBRsO"
      },
      "outputs": [],
      "source": [
        "# Logistic Regression\n"
      ]
    },
    {
      "cell_type": "code",
      "execution_count": null,
      "metadata": {
        "colab": {
          "base_uri": "https://localhost:8080/"
        },
        "id": "rJDKzDf_nzI6",
        "outputId": "ff82572e-13be-4d56-a7a2-d2541cc7913f"
      },
      "outputs": [
        {
          "output_type": "stream",
          "name": "stdout",
          "text": [
            "Drive already mounted at /content/drive; to attempt to forcibly remount, call drive.mount(\"/content/drive\", force_remount=True).\n"
          ]
        }
      ],
      "source": [
        "## 1. Setup\n",
        "import pandas as pd\n",
        "import numpy as np\n",
        "from sklearn.model_selection import train_test_split\n",
        "from sklearn.linear_model import LogisticRegression\n",
        "from sklearn.preprocessing import LabelEncoder\n",
        "from google.colab import drive\n",
        "import joblib\n",
        "drive.mount('/content/drive')"
      ]
    },
    {
      "cell_type": "code",
      "source": [
        "## 2. Data Loading\n",
        "df = pd.read_csv(\"/content/drive/MyDrive/Recommender_Systems/train_preprocessed.csv\")"
      ],
      "metadata": {
        "id": "nlespVHsuxUA"
      },
      "execution_count": null,
      "outputs": []
    },
    {
      "cell_type": "code",
      "execution_count": null,
      "metadata": {
        "colab": {
          "base_uri": "https://localhost:8080/",
          "height": 588
        },
        "id": "5FK5x5nbn9-f",
        "outputId": "87cae009-806d-4c30-90ea-ff1ef51d3098"
      },
      "outputs": [
        {
          "output_type": "stream",
          "name": "stdout",
          "text": [
            "<class 'pandas.core.frame.DataFrame'>\n",
            "RangeIndex: 7152705 entries, 0 to 7152704\n",
            "Data columns (total 15 columns):\n",
            " #   Column            Dtype   \n",
            "---  ------            -----   \n",
            " 0   genre_id          category\n",
            " 1   media_id          category\n",
            " 2   album_id          category\n",
            " 3   context_type      int64   \n",
            " 4   platform_name     category\n",
            " 5   platform_family   category\n",
            " 6   media_duration    float64 \n",
            " 7   listen_type       category\n",
            " 8   user_gender       category\n",
            " 9   user_id           category\n",
            " 10  artist_id         category\n",
            " 11  user_age          float64 \n",
            " 12  is_listened       bool    \n",
            " 13  listen_hour       int64   \n",
            " 14  listen_dayofweek  int64   \n",
            "dtypes: bool(1), category(9), float64(2), int64(3)\n",
            "memory usage: 435.4 MB\n"
          ]
        },
        {
          "output_type": "execute_result",
          "data": {
            "text/plain": [
              "  genre_id media_id album_id  context_type platform_name platform_family  \\\n",
              "0    25471   222606    41774            12             1               0   \n",
              "1    25571   250467    43941             0             2               1   \n",
              "2       16   305197    48078             1             2               1   \n",
              "3        7   900502    71521             0             0               0   \n",
              "4        7   542335    71718             0             0               0   \n",
              "\n",
              "   media_duration listen_type user_gender user_id artist_id  user_age  \\\n",
              "0        0.491379           0           0    9241     55164  0.916667   \n",
              "1        0.267241           0           0   16547     55830  1.000000   \n",
              "2        0.172414           1           1    7665      2704  0.916667   \n",
              "3        0.564655           0           1    1580       938  1.000000   \n",
              "4        0.176724           0           1    1812      2939  0.500000   \n",
              "\n",
              "   is_listened  listen_hour  listen_dayofweek  \n",
              "0        False           13                 3  \n",
              "1         True           22                 2  \n",
              "2         True           13                 5  \n",
              "3        False            9                 5  \n",
              "4         True           18                 5  "
            ],
            "text/html": [
              "\n",
              "  <div id=\"df-12d2beac-5dd3-4ed4-9212-c4585eec296b\" class=\"colab-df-container\">\n",
              "    <div>\n",
              "<style scoped>\n",
              "    .dataframe tbody tr th:only-of-type {\n",
              "        vertical-align: middle;\n",
              "    }\n",
              "\n",
              "    .dataframe tbody tr th {\n",
              "        vertical-align: top;\n",
              "    }\n",
              "\n",
              "    .dataframe thead th {\n",
              "        text-align: right;\n",
              "    }\n",
              "</style>\n",
              "<table border=\"1\" class=\"dataframe\">\n",
              "  <thead>\n",
              "    <tr style=\"text-align: right;\">\n",
              "      <th></th>\n",
              "      <th>genre_id</th>\n",
              "      <th>media_id</th>\n",
              "      <th>album_id</th>\n",
              "      <th>context_type</th>\n",
              "      <th>platform_name</th>\n",
              "      <th>platform_family</th>\n",
              "      <th>media_duration</th>\n",
              "      <th>listen_type</th>\n",
              "      <th>user_gender</th>\n",
              "      <th>user_id</th>\n",
              "      <th>artist_id</th>\n",
              "      <th>user_age</th>\n",
              "      <th>is_listened</th>\n",
              "      <th>listen_hour</th>\n",
              "      <th>listen_dayofweek</th>\n",
              "    </tr>\n",
              "  </thead>\n",
              "  <tbody>\n",
              "    <tr>\n",
              "      <th>0</th>\n",
              "      <td>25471</td>\n",
              "      <td>222606</td>\n",
              "      <td>41774</td>\n",
              "      <td>12</td>\n",
              "      <td>1</td>\n",
              "      <td>0</td>\n",
              "      <td>0.491379</td>\n",
              "      <td>0</td>\n",
              "      <td>0</td>\n",
              "      <td>9241</td>\n",
              "      <td>55164</td>\n",
              "      <td>0.916667</td>\n",
              "      <td>False</td>\n",
              "      <td>13</td>\n",
              "      <td>3</td>\n",
              "    </tr>\n",
              "    <tr>\n",
              "      <th>1</th>\n",
              "      <td>25571</td>\n",
              "      <td>250467</td>\n",
              "      <td>43941</td>\n",
              "      <td>0</td>\n",
              "      <td>2</td>\n",
              "      <td>1</td>\n",
              "      <td>0.267241</td>\n",
              "      <td>0</td>\n",
              "      <td>0</td>\n",
              "      <td>16547</td>\n",
              "      <td>55830</td>\n",
              "      <td>1.000000</td>\n",
              "      <td>True</td>\n",
              "      <td>22</td>\n",
              "      <td>2</td>\n",
              "    </tr>\n",
              "    <tr>\n",
              "      <th>2</th>\n",
              "      <td>16</td>\n",
              "      <td>305197</td>\n",
              "      <td>48078</td>\n",
              "      <td>1</td>\n",
              "      <td>2</td>\n",
              "      <td>1</td>\n",
              "      <td>0.172414</td>\n",
              "      <td>1</td>\n",
              "      <td>1</td>\n",
              "      <td>7665</td>\n",
              "      <td>2704</td>\n",
              "      <td>0.916667</td>\n",
              "      <td>True</td>\n",
              "      <td>13</td>\n",
              "      <td>5</td>\n",
              "    </tr>\n",
              "    <tr>\n",
              "      <th>3</th>\n",
              "      <td>7</td>\n",
              "      <td>900502</td>\n",
              "      <td>71521</td>\n",
              "      <td>0</td>\n",
              "      <td>0</td>\n",
              "      <td>0</td>\n",
              "      <td>0.564655</td>\n",
              "      <td>0</td>\n",
              "      <td>1</td>\n",
              "      <td>1580</td>\n",
              "      <td>938</td>\n",
              "      <td>1.000000</td>\n",
              "      <td>False</td>\n",
              "      <td>9</td>\n",
              "      <td>5</td>\n",
              "    </tr>\n",
              "    <tr>\n",
              "      <th>4</th>\n",
              "      <td>7</td>\n",
              "      <td>542335</td>\n",
              "      <td>71718</td>\n",
              "      <td>0</td>\n",
              "      <td>0</td>\n",
              "      <td>0</td>\n",
              "      <td>0.176724</td>\n",
              "      <td>0</td>\n",
              "      <td>1</td>\n",
              "      <td>1812</td>\n",
              "      <td>2939</td>\n",
              "      <td>0.500000</td>\n",
              "      <td>True</td>\n",
              "      <td>18</td>\n",
              "      <td>5</td>\n",
              "    </tr>\n",
              "  </tbody>\n",
              "</table>\n",
              "</div>\n",
              "    <div class=\"colab-df-buttons\">\n",
              "\n",
              "  <div class=\"colab-df-container\">\n",
              "    <button class=\"colab-df-convert\" onclick=\"convertToInteractive('df-12d2beac-5dd3-4ed4-9212-c4585eec296b')\"\n",
              "            title=\"Convert this dataframe to an interactive table.\"\n",
              "            style=\"display:none;\">\n",
              "\n",
              "  <svg xmlns=\"http://www.w3.org/2000/svg\" height=\"24px\" viewBox=\"0 -960 960 960\">\n",
              "    <path d=\"M120-120v-720h720v720H120Zm60-500h600v-160H180v160Zm220 220h160v-160H400v160Zm0 220h160v-160H400v160ZM180-400h160v-160H180v160Zm440 0h160v-160H620v160ZM180-180h160v-160H180v160Zm440 0h160v-160H620v160Z\"/>\n",
              "  </svg>\n",
              "    </button>\n",
              "\n",
              "  <style>\n",
              "    .colab-df-container {\n",
              "      display:flex;\n",
              "      gap: 12px;\n",
              "    }\n",
              "\n",
              "    .colab-df-convert {\n",
              "      background-color: #E8F0FE;\n",
              "      border: none;\n",
              "      border-radius: 50%;\n",
              "      cursor: pointer;\n",
              "      display: none;\n",
              "      fill: #1967D2;\n",
              "      height: 32px;\n",
              "      padding: 0 0 0 0;\n",
              "      width: 32px;\n",
              "    }\n",
              "\n",
              "    .colab-df-convert:hover {\n",
              "      background-color: #E2EBFA;\n",
              "      box-shadow: 0px 1px 2px rgba(60, 64, 67, 0.3), 0px 1px 3px 1px rgba(60, 64, 67, 0.15);\n",
              "      fill: #174EA6;\n",
              "    }\n",
              "\n",
              "    .colab-df-buttons div {\n",
              "      margin-bottom: 4px;\n",
              "    }\n",
              "\n",
              "    [theme=dark] .colab-df-convert {\n",
              "      background-color: #3B4455;\n",
              "      fill: #D2E3FC;\n",
              "    }\n",
              "\n",
              "    [theme=dark] .colab-df-convert:hover {\n",
              "      background-color: #434B5C;\n",
              "      box-shadow: 0px 1px 3px 1px rgba(0, 0, 0, 0.15);\n",
              "      filter: drop-shadow(0px 1px 2px rgba(0, 0, 0, 0.3));\n",
              "      fill: #FFFFFF;\n",
              "    }\n",
              "  </style>\n",
              "\n",
              "    <script>\n",
              "      const buttonEl =\n",
              "        document.querySelector('#df-12d2beac-5dd3-4ed4-9212-c4585eec296b button.colab-df-convert');\n",
              "      buttonEl.style.display =\n",
              "        google.colab.kernel.accessAllowed ? 'block' : 'none';\n",
              "\n",
              "      async function convertToInteractive(key) {\n",
              "        const element = document.querySelector('#df-12d2beac-5dd3-4ed4-9212-c4585eec296b');\n",
              "        const dataTable =\n",
              "          await google.colab.kernel.invokeFunction('convertToInteractive',\n",
              "                                                    [key], {});\n",
              "        if (!dataTable) return;\n",
              "\n",
              "        const docLinkHtml = 'Like what you see? Visit the ' +\n",
              "          '<a target=\"_blank\" href=https://colab.research.google.com/notebooks/data_table.ipynb>data table notebook</a>'\n",
              "          + ' to learn more about interactive tables.';\n",
              "        element.innerHTML = '';\n",
              "        dataTable['output_type'] = 'display_data';\n",
              "        await google.colab.output.renderOutput(dataTable, element);\n",
              "        const docLink = document.createElement('div');\n",
              "        docLink.innerHTML = docLinkHtml;\n",
              "        element.appendChild(docLink);\n",
              "      }\n",
              "    </script>\n",
              "  </div>\n",
              "\n",
              "\n",
              "<div id=\"df-5e78cbc4-b484-48f4-b80d-e2441b416cab\">\n",
              "  <button class=\"colab-df-quickchart\" onclick=\"quickchart('df-5e78cbc4-b484-48f4-b80d-e2441b416cab')\"\n",
              "            title=\"Suggest charts\"\n",
              "            style=\"display:none;\">\n",
              "\n",
              "<svg xmlns=\"http://www.w3.org/2000/svg\" height=\"24px\"viewBox=\"0 0 24 24\"\n",
              "     width=\"24px\">\n",
              "    <g>\n",
              "        <path d=\"M19 3H5c-1.1 0-2 .9-2 2v14c0 1.1.9 2 2 2h14c1.1 0 2-.9 2-2V5c0-1.1-.9-2-2-2zM9 17H7v-7h2v7zm4 0h-2V7h2v10zm4 0h-2v-4h2v4z\"/>\n",
              "    </g>\n",
              "</svg>\n",
              "  </button>\n",
              "\n",
              "<style>\n",
              "  .colab-df-quickchart {\n",
              "      --bg-color: #E8F0FE;\n",
              "      --fill-color: #1967D2;\n",
              "      --hover-bg-color: #E2EBFA;\n",
              "      --hover-fill-color: #174EA6;\n",
              "      --disabled-fill-color: #AAA;\n",
              "      --disabled-bg-color: #DDD;\n",
              "  }\n",
              "\n",
              "  [theme=dark] .colab-df-quickchart {\n",
              "      --bg-color: #3B4455;\n",
              "      --fill-color: #D2E3FC;\n",
              "      --hover-bg-color: #434B5C;\n",
              "      --hover-fill-color: #FFFFFF;\n",
              "      --disabled-bg-color: #3B4455;\n",
              "      --disabled-fill-color: #666;\n",
              "  }\n",
              "\n",
              "  .colab-df-quickchart {\n",
              "    background-color: var(--bg-color);\n",
              "    border: none;\n",
              "    border-radius: 50%;\n",
              "    cursor: pointer;\n",
              "    display: none;\n",
              "    fill: var(--fill-color);\n",
              "    height: 32px;\n",
              "    padding: 0;\n",
              "    width: 32px;\n",
              "  }\n",
              "\n",
              "  .colab-df-quickchart:hover {\n",
              "    background-color: var(--hover-bg-color);\n",
              "    box-shadow: 0 1px 2px rgba(60, 64, 67, 0.3), 0 1px 3px 1px rgba(60, 64, 67, 0.15);\n",
              "    fill: var(--button-hover-fill-color);\n",
              "  }\n",
              "\n",
              "  .colab-df-quickchart-complete:disabled,\n",
              "  .colab-df-quickchart-complete:disabled:hover {\n",
              "    background-color: var(--disabled-bg-color);\n",
              "    fill: var(--disabled-fill-color);\n",
              "    box-shadow: none;\n",
              "  }\n",
              "\n",
              "  .colab-df-spinner {\n",
              "    border: 2px solid var(--fill-color);\n",
              "    border-color: transparent;\n",
              "    border-bottom-color: var(--fill-color);\n",
              "    animation:\n",
              "      spin 1s steps(1) infinite;\n",
              "  }\n",
              "\n",
              "  @keyframes spin {\n",
              "    0% {\n",
              "      border-color: transparent;\n",
              "      border-bottom-color: var(--fill-color);\n",
              "      border-left-color: var(--fill-color);\n",
              "    }\n",
              "    20% {\n",
              "      border-color: transparent;\n",
              "      border-left-color: var(--fill-color);\n",
              "      border-top-color: var(--fill-color);\n",
              "    }\n",
              "    30% {\n",
              "      border-color: transparent;\n",
              "      border-left-color: var(--fill-color);\n",
              "      border-top-color: var(--fill-color);\n",
              "      border-right-color: var(--fill-color);\n",
              "    }\n",
              "    40% {\n",
              "      border-color: transparent;\n",
              "      border-right-color: var(--fill-color);\n",
              "      border-top-color: var(--fill-color);\n",
              "    }\n",
              "    60% {\n",
              "      border-color: transparent;\n",
              "      border-right-color: var(--fill-color);\n",
              "    }\n",
              "    80% {\n",
              "      border-color: transparent;\n",
              "      border-right-color: var(--fill-color);\n",
              "      border-bottom-color: var(--fill-color);\n",
              "    }\n",
              "    90% {\n",
              "      border-color: transparent;\n",
              "      border-bottom-color: var(--fill-color);\n",
              "    }\n",
              "  }\n",
              "</style>\n",
              "\n",
              "  <script>\n",
              "    async function quickchart(key) {\n",
              "      const quickchartButtonEl =\n",
              "        document.querySelector('#' + key + ' button');\n",
              "      quickchartButtonEl.disabled = true;  // To prevent multiple clicks.\n",
              "      quickchartButtonEl.classList.add('colab-df-spinner');\n",
              "      try {\n",
              "        const charts = await google.colab.kernel.invokeFunction(\n",
              "            'suggestCharts', [key], {});\n",
              "      } catch (error) {\n",
              "        console.error('Error during call to suggestCharts:', error);\n",
              "      }\n",
              "      quickchartButtonEl.classList.remove('colab-df-spinner');\n",
              "      quickchartButtonEl.classList.add('colab-df-quickchart-complete');\n",
              "    }\n",
              "    (() => {\n",
              "      let quickchartButtonEl =\n",
              "        document.querySelector('#df-5e78cbc4-b484-48f4-b80d-e2441b416cab button');\n",
              "      quickchartButtonEl.style.display =\n",
              "        google.colab.kernel.accessAllowed ? 'block' : 'none';\n",
              "    })();\n",
              "  </script>\n",
              "</div>\n",
              "\n",
              "    </div>\n",
              "  </div>\n"
            ],
            "application/vnd.google.colaboratory.intrinsic+json": {
              "type": "dataframe",
              "variable_name": "df"
            }
          },
          "metadata": {},
          "execution_count": 6
        }
      ],
      "source": [
        "## 3. Prepare Training Data\n",
        "# Treat as category types\n",
        "df['platform_name'] = df['platform_name'].astype('category')\n",
        "df['platform_family'] = df['platform_family'].astype('category')\n",
        "df['listen_type'] = df['listen_type'].astype('category')\n",
        "df['user_gender'] = df['user_gender'].astype('category')\n",
        "df['genre_id'] = df['genre_id'].astype('category')\n",
        "df['media_id'] = df['media_id'].astype('category')\n",
        "df['album_id'] = df['album_id'].astype('category')\n",
        "df['user_id'] = df['user_id'].astype('category')\n",
        "df['artist_id'] = df['artist_id'].astype('category')\n",
        "\n",
        "# Drop date columns\n",
        "df = df.drop(columns=['release_date'], errors='ignore')\n",
        "df = df.drop(columns=['ts_listen'], errors='ignore')\n",
        "\n",
        "# Display basic info\n",
        "df.info()\n",
        "df.head()"
      ]
    },
    {
      "cell_type": "code",
      "execution_count": null,
      "metadata": {
        "id": "FoW4MCEVqQV2"
      },
      "outputs": [],
      "source": [
        "## 4. Train-test split\n",
        "X = df.drop(columns=['is_listened'])\n",
        "y = df['is_listened']\n",
        "\n",
        "# Split `train.csv` into train (80%) and validation (20%)\n",
        "X_train, X_val, y_train, y_val = train_test_split(X, y, test_size=0.2, random_state=42)\n"
      ]
    },
    {
      "cell_type": "code",
      "execution_count": null,
      "metadata": {
        "id": "ORhxQepTqe10",
        "colab": {
          "base_uri": "https://localhost:8080/"
        },
        "outputId": "55bacf46-6f63-4d7d-9d4f-31eec77c65d2"
      },
      "outputs": [
        {
          "output_type": "stream",
          "name": "stdout",
          "text": [
            "Model saved to: /content/drive/My Drive/Recommender_Systems/deezer_logistic_model.pkl\n"
          ]
        }
      ],
      "source": [
        "## 5. Train Logistic Regression model\n",
        "model = LogisticRegression(max_iter=1000)\n",
        "model.fit(X_train, y_train)"
      ]
    },
    {
      "cell_type": "code",
      "execution_count": null,
      "metadata": {
        "id": "swvNOlC4qioq",
        "colab": {
          "base_uri": "https://localhost:8080/"
        },
        "outputId": "550d4e65-29bf-4b97-b8c9-e3b8aae92286"
      },
      "outputs": [
        {
          "output_type": "stream",
          "name": "stdout",
          "text": [
            "Validation Accuracy: 0.6830\n"
          ]
        }
      ],
      "source": [
        "## 6. Evaluate model on validation set\n",
        "val_predictions = model.predict(X_val)\n",
        "val_accuracy = (val_predictions == y_val).mean()\n",
        "print(f\"Validation Accuracy: {val_accuracy:.4f}\")"
      ]
    },
    {
      "cell_type": "code",
      "execution_count": null,
      "metadata": {
        "colab": {
          "base_uri": "https://localhost:8080/"
        },
        "id": "Ss9BB9BUG-Vs",
        "outputId": "2090ebcb-0215-41fc-f3b9-4270767623cf"
      },
      "outputs": [
        {
          "output_type": "stream",
          "name": "stdout",
          "text": [
            "Model saved to: /content/drive/My Drive/Recommender_Systems/deezer_logistic_model.pkl\n"
          ]
        }
      ],
      "source": [
        "## 7. Train final model on full `train.csv`\n",
        "model.fit(X, y)\n",
        "\n",
        "# Define path to save the model in Google Drive\n",
        "model_path = \"/content/drive/My Drive/Recommender_Systems/deezer_logistic_model.pkl\"\n",
        "\n",
        "# Save the trained model\n",
        "joblib.dump(model, model_path)\n",
        "\n",
        "print(f\"Model saved to: {model_path}\")"
      ]
    },
    {
      "cell_type": "code",
      "source": [
        "## 8. (Optional) Predict on Kaggle's `test.csv`\n",
        "# Ensure `test.csv` has the same features as `train.csv`\n",
        "X_test = test.drop(columns=['sample_id'], errors='ignore')  # Remove sample_id\n",
        "\n",
        "# Predict on Kaggle's `test.csv`\n",
        "predictions = model.predict_proba(X_test)[:, 1]  # Get probability of `is_listened`\n",
        "\n",
        "# Convert to binary predictions (0 or 1)\n",
        "binary_predictions = (predictions > 0.5).astype(int)\n",
        "\n",
        "# Save predictions for Kaggle submission\n",
        "submission = pd.DataFrame({'id': test['sample_id'], 'is_listened': binary_predictions})  # Use sample_id for Kaggle submission\n",
        "submission.to_csv(\"submission.csv\", index=False)\n",
        "\n",
        "print(\"Submission file saved as submission.csv\")"
      ],
      "metadata": {
        "colab": {
          "base_uri": "https://localhost:8080/"
        },
        "id": "7h2omxacQ9MJ",
        "outputId": "cc137f63-c5e1-47d9-bea2-eb6ca9b6196b"
      },
      "execution_count": null,
      "outputs": [
        {
          "output_type": "stream",
          "name": "stdout",
          "text": [
            "Submission file saved as submission.csv\n"
          ]
        }
      ]
    }
  ],
  "metadata": {
    "colab": {
      "toc_visible": true,
      "provenance": [],
      "authorship_tag": "ABX9TyOGTkVr3KtiPv1P9XQMBc6A",
      "include_colab_link": true
    },
    "kernelspec": {
      "display_name": "Python 3",
      "name": "python3"
    },
    "language_info": {
      "name": "python"
    }
  },
  "nbformat": 4,
  "nbformat_minor": 0
}
