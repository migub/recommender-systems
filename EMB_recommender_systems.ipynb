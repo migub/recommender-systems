{
  "nbformat": 4,
  "nbformat_minor": 0,
  "metadata": {
    "colab": {
      "provenance": [],
      "authorship_tag": "ABX9TyOCTXD5P1U+5JaGEKfSInR4",
      "include_colab_link": true
    },
    "kernelspec": {
      "name": "python3",
      "display_name": "Python 3"
    },
    "language_info": {
      "name": "python"
    }
  },
  "cells": [
    {
      "cell_type": "markdown",
      "metadata": {
        "id": "view-in-github",
        "colab_type": "text"
      },
      "source": [
        "<a href=\"https://colab.research.google.com/github/migub/recommender-systems/blob/main/EMB_recommender_systems.ipynb\" target=\"_parent\"><img src=\"https://colab.research.google.com/assets/colab-badge.svg\" alt=\"Open In Colab\"/></a>"
      ]
    },
    {
      "cell_type": "code",
      "source": [
        "# pip install deezer-python"
      ],
      "metadata": {
        "id": "5h5moegQUOBE"
      },
      "execution_count": 1,
      "outputs": []
    },
    {
      "cell_type": "code",
      "source": [
        "## 1. Setup\n",
        "import pandas as pd\n",
        "import numpy as np\n",
        "import matplotlib.pyplot as plt\n",
        "import seaborn as sns\n",
        "import deezer as deezer\n",
        "from google.colab import drive\n",
        "drive.mount('/content/drive')"
      ],
      "metadata": {
        "colab": {
          "base_uri": "https://localhost:8080/"
        },
        "id": "rJDKzDf_nzI6",
        "outputId": "92caf7c4-a74b-42cd-a2e1-6293081e220f"
      },
      "execution_count": 2,
      "outputs": [
        {
          "output_type": "stream",
          "name": "stdout",
          "text": [
            "Drive already mounted at /content/drive; to attempt to forcibly remount, call drive.mount(\"/content/drive\", force_remount=True).\n"
          ]
        }
      ]
    },
    {
      "cell_type": "code",
      "execution_count": 2,
      "metadata": {
        "id": "ZkEtKZfRM0DS"
      },
      "outputs": [],
      "source": []
    },
    {
      "cell_type": "code",
      "source": [],
      "metadata": {
        "id": "381kRA0jU-q4"
      },
      "execution_count": 2,
      "outputs": []
    },
    {
      "cell_type": "code",
      "source": [
        "## 2. Load cleaned data from previous step\n",
        "data = pd.read_csv(\"/content/drive/MyDrive/Recommender_Systems/cleaned_data.csv\")\n",
        "\n",
        "# Display basic info\n",
        "data.info()\n",
        "display(data.head())"
      ],
      "metadata": {
        "id": "5FK5x5nbn9-f"
      },
      "execution_count": null,
      "outputs": []
    },
    {
      "cell_type": "code",
      "source": [
        "client = deezer.Client()\n",
        "\n",
        "\n",
        "# Testing deezer\n",
        "track_id = 222606\n",
        "track = client.get_track(track_id)\n",
        "\n",
        "# Print track details\n",
        "print(f\"Title: {track.title}\")\n",
        "print(f\"Artist: {track.artist.name}\")\n",
        "print(f\"Album: {track.album.title}\")\n",
        "print(f\"Duration: {track.duration} seconds\")\n",
        "\n",
        "# user_id = 16547\n",
        "# user = client.get_user(user_id)\n",
        "#\n",
        "# # Print user details\n",
        "# print(f\"Gender: {user.gender}\")\n",
        "# print(f\"Country: {user.country}\")\n"
      ],
      "metadata": {
        "id": "F5VXI2owbc2W"
      },
      "execution_count": null,
      "outputs": []
    },
    {
      "cell_type": "markdown",
      "source": [
        "While retrieval of track data works, user data is not as easily accessible.\n",
        "\n",
        "[I will continue to look into this, but at the moment, I'm not finding an easy solution. It could be an authentication problem, which could be circumvented by creating an app, but currently, no new app applications are being accepted by Deezer.]"
      ],
      "metadata": {
        "id": "S19E4IUQfnDt"
      }
    },
    {
      "cell_type": "code",
      "source": [
        "# This function can handle track_id and user id, but in reality, we are only getting track data.\n",
        "\n",
        "def get_deezer_info(ids, entity_type):\n",
        "    \"\"\"\n",
        "    Fetches information from the Deezer API for a given entity type (track or user) using the deezer package.\n",
        "\n",
        "    Args:\n",
        "        ids (list): List of entity IDs (track IDs or user IDs).\n",
        "        entity_type (str): Either 'track' or 'user'.\n",
        "\n",
        "    Returns:\n",
        "        pd.DataFrame: A DataFrame containing the requested information.\n",
        "    \"\"\"\n",
        "    client = deezer.Client()\n",
        "    data_list = []\n",
        "\n",
        "    for entity_id in ids:\n",
        "        try:\n",
        "            if entity_type == \"track\":\n",
        "                track = client.get_track(entity_id)\n",
        "                entity_info = {\n",
        "                    \"track_id\": entity_id,\n",
        "                    \"rank\": track.rank,\n",
        "                    \"explicit_lyrics\": track.explicit_lyrics,\n",
        "                    \"bpm\": track.bpm\n",
        "                }\n",
        "            elif entity_type == \"user\":\n",
        "                user = client.get_user(entity_id)\n",
        "                entity_info = {\n",
        "                    \"id\": entity_id,\n",
        "                    \"gender\": user.gender,\n",
        "                    \"country\": user.country\n",
        "                }\n",
        "            else:\n",
        "                raise ValueError(\"Invalid entity_type. Use 'track' or 'user'.\")\n",
        "\n",
        "            data_list.append(entity_info)\n",
        "\n",
        "        except deezer.DeezerErrorResponse as e:\n",
        "            print(f\"Failed to retrieve data for {entity_type} ID {entity_id}: {e}\")\n",
        "\n",
        "    return pd.DataFrame(data_list)\n",
        "\n",
        "\n",
        "\n"
      ],
      "metadata": {
        "id": "_pp4oipIUIp8"
      },
      "execution_count": null,
      "outputs": []
    },
    {
      "cell_type": "code",
      "source": [
        "test = data.head(20)\n",
        "print(test[\"media_id\"])\n"
      ],
      "metadata": {
        "id": "8GIdjqevF-t-"
      },
      "execution_count": null,
      "outputs": []
    },
    {
      "cell_type": "code",
      "source": [
        "# Testing on small dataset\n",
        "track_info_df = get_deezer_info(test[\"media_id\"].unique().tolist(), \"track\")  # Get track data\n",
        "track_info_df = track_info_df.rename(columns={\"track_id\": \"media_id\"})  # Rename column for merging\n",
        "test2 = test.merge(track_info_df, on=\"media_id\", how=\"left\")  # Merge retrieved track data\n",
        "\n",
        "# user_info_df = get_deezer_info((test[\"user_id\"].unique()).tolist(), \"user\")\n",
        "# user_info_df = user_info_df.rename(columns={\"id\": \"user_id\"})  # Rename column for merging\n",
        "#test = test.merge(user_info_df, on=\"user_id\", how=\"left\")  # Merge retrieved track data\n",
        "# print(user_info_df)\n",
        "# print(test)"
      ],
      "metadata": {
        "id": "zGB4U1CiF5Cb"
      },
      "execution_count": null,
      "outputs": []
    },
    {
      "cell_type": "code",
      "source": [
        "test2.head()"
      ],
      "metadata": {
        "id": "kRTp4sHmJEm4"
      },
      "execution_count": null,
      "outputs": []
    },
    {
      "cell_type": "markdown",
      "source": [
        "Now implementing the above for the whole training dataset and saving the resulting df for sharing with colleagues."
      ],
      "metadata": {
        "id": "qoYSQvigg_jx"
      }
    },
    {
      "cell_type": "code",
      "source": [
        "media_ids = data[\"media_id\"].unique().tolist()\n",
        "track_info_df = get_deezer_info(media_ids, \"track\")  # Get all the track data"
      ],
      "metadata": {
        "id": "fXYgu29Bg8B0"
      },
      "execution_count": null,
      "outputs": []
    },
    {
      "cell_type": "code",
      "source": [
        "track_info_df = track_info_df.rename(columns={\"track_id\": \"media_id\"})  # Rename column for merging"
      ],
      "metadata": {
        "id": "XiINh9gihbeM"
      },
      "execution_count": null,
      "outputs": []
    },
    {
      "cell_type": "code",
      "source": [
        "# Save the DataFrame 'track_info' to Google Drive.\n",
        "track_info_df.to_csv(\"/content/drive/MyDrive/Recommender_Systems/track_info_deezer.csv\", index=False)\n"
      ],
      "metadata": {
        "id": "wISd9b7zh-bF"
      },
      "execution_count": null,
      "outputs": []
    },
    {
      "cell_type": "code",
      "source": [
        "data2 = data.merge(track_info_df, on=\"media_id\", how=\"left\")  # Merge retrieved track data"
      ],
      "metadata": {
        "id": "ywcofuOHiROW"
      },
      "execution_count": null,
      "outputs": []
    }
  ]
}